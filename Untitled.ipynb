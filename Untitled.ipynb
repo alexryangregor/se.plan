{
 "cells": [
  {
   "cell_type": "code",
   "execution_count": null,
   "id": "f41617dd-e92f-486b-a2f8-2147ddfd1177",
   "metadata": {},
   "outputs": [],
   "source": [
    "from component.scripts.compute import export_as_csv"
   ]
  },
  {
   "cell_type": "code",
   "execution_count": null,
   "id": "aad46419-9849-4c18-ac8c-28ae031aa9ac",
   "metadata": {},
   "outputs": [],
   "source": [
    "area = {\n",
    "    \"COG_Lekoumou\": {\n",
    "        \"total\": 2122732.953535563,\n",
    "        \"values\": [\n",
    "            {\"image\": 1.0, \"sum\": 274157.45942218584},\n",
    "            {\"image\": 2.0, \"sum\": 43658.2525831663},\n",
    "            {\"image\": 3.0, \"sum\": 13793.436226895003},\n",
    "            {\"image\": 4.0, \"sum\": 48564.01068480597},\n",
    "            {\"image\": 5.0, \"sum\": 13109.203624046826},\n",
    "            {\"image\": 6.0, \"sum\": 1729450.590994463},\n",
    "        ],\n",
    "    }\n",
    "}\n",
    "theme = {\n",
    "    \"benefit\": {\n",
    "        \"woodfuel_harvest\": {\"values\": [0.04832561027632892], \"total\": 0},\n",
    "        \"plantation_growth_rates\": {\"values\": [10.48340118426394], \"total\": 0},\n",
    "        \"forest_job\": {\"values\": [0.0009327636248043967], \"total\": 0},\n",
    "        \"ground_carbon\": {\"values\": [4.301457755112533], \"total\": 0},\n",
    "        \"biodiversity_intactness\": {\"values\": [0.7969526803467367], \"total\": 0},\n",
    "        \"endangered_species\": {\"values\": [7.262921217696638], \"total\": 0},\n",
    "    },\n",
    "    \"constraint\": {\n",
    "        \"city_access\": {\"values\": [0.0], \"total\": 0},\n",
    "        \"ecozones\": {\"values\": [0.0], \"total\": 0},\n",
    "        \"land_cover\": {\"values\": [0.0], \"total\": 0},\n",
    "        \"protected_areas\": {\"values\": [0.0], \"total\": 0},\n",
    "        \"slope\": {\"values\": [0.0], \"total\": 0},\n",
    "        \"elevation\": {\"values\": [0.0], \"total\": 0},\n",
    "        \"natural_regeneration\": {\"values\": [0.0], \"total\": 0},\n",
    "        \"declining_population\": {\"values\": [0.0], \"total\": 0},\n",
    "        \"property_rights\": {\"values\": [0.0], \"total\": 0},\n",
    "        \"deforestation_rate\": {\"values\": [0.0], \"total\": 0},\n",
    "        \"climate_risk\": {\"values\": [0.0], \"total\": 0},\n",
    "        \"population_density\": {\"values\": [0.0], \"total\": 0},\n",
    "        \"annual_rainfall\": {\"values\": [0.0], \"total\": 0},\n",
    "        \"treecover_with_potential\": {\"values\": [81.46251466543988], \"total\": 0},\n",
    "        \"water_stress\": {\"values\": [0.0], \"total\": 0},\n",
    "    },\n",
    "    \"cost\": {\n",
    "        \"opportunity_cost\": {\"values\": [1075428641.183983], \"total\": 0},\n",
    "        \"implementation_cost\": {\"values\": [591512334.2460005], \"total\": 0},\n",
    "    },\n",
    "}"
   ]
  },
  {
   "cell_type": "code",
   "execution_count": null,
   "id": "12750f74-1a71-4251-890c-025f86f2dea5",
   "metadata": {},
   "outputs": [],
   "source": [
    "from pathlib import Path\n",
    "\n",
    "file = Path.home() / \"tmp\" / \"test_csv.csv\"\n",
    "export_as_csv(area, theme, file)\n",
    "print(file.read_text())"
   ]
  },
  {
   "cell_type": "code",
   "execution_count": null,
   "id": "5715f99c-9433-4e0a-ae50-dd1eda98a330",
   "metadata": {},
   "outputs": [],
   "source": []
  }
 ],
 "metadata": {
  "kernelspec": {
   "display_name": "Python 3",
   "language": "python",
   "name": "python3"
  },
  "language_info": {
   "codemirror_mode": {
    "name": "ipython",
    "version": 3
   },
   "file_extension": ".py",
   "mimetype": "text/x-python",
   "name": "python",
   "nbconvert_exporter": "python",
   "pygments_lexer": "ipython3",
   "version": "3.8.10"
  }
 },
 "nbformat": 4,
 "nbformat_minor": 5
}
