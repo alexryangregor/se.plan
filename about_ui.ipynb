{
 "cells": [
  {
   "cell_type": "code",
   "execution_count": null,
   "id": "minor-payday",
   "metadata": {},
   "outputs": [],
   "source": [
    "from sepal_ui import sepalwidgets as sw\n",
    "from component.message import cm"
   ]
  },
  {
   "cell_type": "code",
   "execution_count": null,
   "id": "opponent-atlanta",
   "metadata": {},
   "outputs": [],
   "source": [
    "# create the Html body of your about section\n",
    "rp_about = sw.TileAbout(cm.app.about)  # relative path to your markdown file\n",
    "rp_about.set_title(\"\")"
   ]
  },
  {
   "cell_type": "code",
   "execution_count": null,
   "id": "labeled-vessel",
   "metadata": {},
   "outputs": [],
   "source": [
    "# create the html body of the FAO disclaimer\n",
    "# its mother class is sw.Tile so you can still replace it with another message if you want (discouraged)\n",
    "rp_disclaimer = sw.TileDisclaimer()"
   ]
  },
  {
   "cell_type": "code",
   "execution_count": null,
   "id": "posted-moral",
   "metadata": {},
   "outputs": [],
   "source": [
    "# this tile will only be displayed if this very notebook is launched\n",
    "# usefull for debugging\n",
    "rp_about"
   ]
  },
  {
   "cell_type": "code",
   "execution_count": null,
   "id": "prescribed-standard",
   "metadata": {},
   "outputs": [],
   "source": [
    "# this tile will only be displayed if this very notebook is launched\n",
    "# usefull for debugging\n",
    "rp_disclaimer"
   ]
  }
 ],
 "metadata": {
  "kernelspec": {
   "display_name": "Python 3",
   "language": "python",
   "name": "python3"
  },
  "language_info": {
   "codemirror_mode": {
    "name": "ipython",
    "version": 3
   },
   "file_extension": ".py",
   "mimetype": "text/x-python",
   "name": "python",
   "nbconvert_exporter": "python",
   "pygments_lexer": "ipython3",
   "version": "3.8.10"
  }
 },
 "nbformat": 4,
 "nbformat_minor": 5
}
