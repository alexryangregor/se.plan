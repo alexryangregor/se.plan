{
 "cells": [
  {
   "cell_type": "code",
   "execution_count": null,
   "id": "further-hunter",
   "metadata": {},
   "outputs": [],
   "source": [
    "from pathlib import Path\n",
    "\n",
    "from sepal_ui.translator import Translator"
   ]
  },
  {
   "cell_type": "code",
   "execution_count": null,
   "id": "racial-headquarters",
   "metadata": {},
   "outputs": [],
   "source": [
    "# select the language you want to test\n",
    "locale = \"en\""
   ]
  },
  {
   "cell_type": "code",
   "execution_count": null,
   "id": "agreed-variance",
   "metadata": {},
   "outputs": [],
   "source": [
    "ms = Translator(Path.cwd(), locale)"
   ]
  },
  {
   "cell_type": "code",
   "execution_count": null,
   "id": "d71f0c59",
   "metadata": {},
   "outputs": [],
   "source": [
    "ms"
   ]
  },
  {
   "cell_type": "code",
   "execution_count": null,
   "id": "758bcd53",
   "metadata": {},
   "outputs": [],
   "source": [
    "ms.priority_dialog.title"
   ]
  },
  {
   "cell_type": "code",
   "execution_count": null,
   "id": "hybrid-dylan",
   "metadata": {},
   "outputs": [],
   "source": [
    "# normally there is only one key lissing ('not_tranlated')\n",
    "# at the root of the file\n",
    "print(ms.missing_keys())"
   ]
  },
  {
   "cell_type": "code",
   "execution_count": null,
   "id": "51ceba65-82ab-402c-8d4b-8a02eadb14d1",
   "metadata": {},
   "outputs": [],
   "source": [
    "ms.available_locales()"
   ]
  },
  {
   "cell_type": "code",
   "execution_count": null,
   "id": "862d4ec2-d559-4d96-b6ac-a83cd6da6ec1",
   "metadata": {},
   "outputs": [],
   "source": [
    "import os\n",
    "from pathlib import Path\n",
    "\n",
    "from sepal_ui.translator import Translator\n",
    "\n",
    "cm = Translator(Path.cwd())"
   ]
  },
  {
   "cell_type": "code",
   "execution_count": null,
   "id": "b2b7fe09",
   "metadata": {},
   "outputs": [],
   "source": [
    "Path.cwd()"
   ]
  },
  {
   "cell_type": "code",
   "execution_count": null,
   "id": "4500df4c",
   "metadata": {},
   "outputs": [],
   "source": [
    "cm.subtheme"
   ]
  },
  {
   "cell_type": "code",
   "execution_count": null,
   "id": "b41af477",
   "metadata": {},
   "outputs": [],
   "source": [
    "cm.priority_dialog.title"
   ]
  }
 ],
 "metadata": {
  "kernelspec": {
   "display_name": "Python 3",
   "language": "python",
   "name": "python3"
  },
  "language_info": {
   "codemirror_mode": {
    "name": "ipython",
    "version": 3
   },
   "file_extension": ".py",
   "mimetype": "text/x-python",
   "name": "python",
   "nbconvert_exporter": "python",
   "pygments_lexer": "ipython3",
   "version": "3.10.6"
  }
 },
 "nbformat": 4,
 "nbformat_minor": 5
}
