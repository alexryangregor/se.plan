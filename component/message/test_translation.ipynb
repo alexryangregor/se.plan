{
 "cells": [
  {
   "cell_type": "code",
   "execution_count": 1,
   "id": "further-hunter",
   "metadata": {},
   "outputs": [
    {
     "data": {
      "application/vnd.jupyter.widget-view+json": {
       "model_id": "a1274f0789c245a496479b3fb12499b9",
       "version_major": 2,
       "version_minor": 0
      },
      "text/plain": [
       "Styles()"
      ]
     },
     "metadata": {},
     "output_type": "display_data"
    }
   ],
   "source": [
    "from pathlib import Path\n",
    "\n",
    "from sepal_ui.translator import Translator"
   ]
  },
  {
   "cell_type": "code",
   "execution_count": 2,
   "id": "racial-headquarters",
   "metadata": {},
   "outputs": [],
   "source": [
    "# select the language you want to test\n",
    "locale = \"zh-CN\""
   ]
  },
  {
   "cell_type": "code",
   "execution_count": 3,
   "id": "agreed-variance",
   "metadata": {},
   "outputs": [],
   "source": [
    "ms = Translator(Path.cwd(), locale)"
   ]
  },
  {
   "cell_type": "code",
   "execution_count": 4,
   "id": "hybrid-dylan",
   "metadata": {},
   "outputs": [
    {
     "name": "stdout",
     "output_type": "stream",
     "text": [
      "All messages are translated\n"
     ]
    }
   ],
   "source": [
    "# normally there is only one key lissing ('not_tranlated')\n",
    "# at the root of the file\n",
    "print(ms.missing_keys())"
   ]
  },
  {
   "cell_type": "code",
   "execution_count": 5,
   "id": "51ceba65-82ab-402c-8d4b-8a02eadb14d1",
   "metadata": {},
   "outputs": [
    {
     "data": {
      "text/plain": [
       "['zh-CN',\n",
       " 'es',\n",
       " 'fr',\n",
       " '.ipynb_checkpoints',\n",
       " '__pycache__',\n",
       " 'es-ES',\n",
       " 'fr-FR',\n",
       " 'en']"
      ]
     },
     "execution_count": 5,
     "metadata": {},
     "output_type": "execute_result"
    }
   ],
   "source": [
    "ms.available_locales()"
   ]
  },
  {
   "cell_type": "code",
   "execution_count": null,
   "id": "862d4ec2-d559-4d96-b6ac-a83cd6da6ec1",
   "metadata": {},
   "outputs": [],
   "source": []
  }
 ],
 "metadata": {
  "kernelspec": {
   "display_name": "Python 3",
   "language": "python",
   "name": "python3"
  },
  "language_info": {
   "codemirror_mode": {
    "name": "ipython",
    "version": 3
   },
   "file_extension": ".py",
   "mimetype": "text/x-python",
   "name": "python",
   "nbconvert_exporter": "python",
   "pygments_lexer": "ipython3",
   "version": "3.8.10"
  }
 },
 "nbformat": 4,
 "nbformat_minor": 5
}
