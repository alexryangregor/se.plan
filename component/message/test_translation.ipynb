{
 "cells": [
  {
   "cell_type": "code",
   "execution_count": null,
   "id": "further-hunter",
   "metadata": {},
   "outputs": [],
   "source": [
    "from pathlib import Path\n",
    "\n",
    "from sepal_ui.translator import Translator"
   ]
  },
  {
   "cell_type": "code",
   "execution_count": null,
   "id": "racial-headquarters",
   "metadata": {},
   "outputs": [],
   "source": [
    "# select the language you want to test\n",
    "locale = \"zh-CN\""
   ]
  },
  {
   "cell_type": "code",
   "execution_count": null,
   "id": "agreed-variance",
   "metadata": {},
   "outputs": [],
   "source": [
    "ms = Translator(Path.cwd(), locale)"
   ]
  },
  {
   "cell_type": "code",
   "execution_count": null,
   "id": "hybrid-dylan",
   "metadata": {},
   "outputs": [],
   "source": [
    "# normally there is only one key lissing ('not_tranlated')\n",
    "# at the root of the file\n",
    "print(ms.missing_keys())"
   ]
  },
  {
   "cell_type": "code",
   "execution_count": null,
   "id": "51ceba65-82ab-402c-8d4b-8a02eadb14d1",
   "metadata": {},
   "outputs": [],
   "source": [
    "ms.available_locales()"
   ]
  },
  {
   "cell_type": "code",
   "execution_count": null,
   "id": "862d4ec2-d559-4d96-b6ac-a83cd6da6ec1",
   "metadata": {},
   "outputs": [],
   "source": []
  }
 ],
 "metadata": {
  "kernelspec": {
   "display_name": "Python 3",
   "language": "python",
   "name": "python3"
  },
  "language_info": {
   "codemirror_mode": {
    "name": "ipython",
    "version": 3
   },
   "file_extension": ".py",
   "mimetype": "text/x-python",
   "name": "python",
   "nbconvert_exporter": "python",
   "pygments_lexer": "ipython3",
   "version": "3.8.10"
  }
 },
 "nbformat": 4,
 "nbformat_minor": 5
}
