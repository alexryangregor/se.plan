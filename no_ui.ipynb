{
 "cells": [
  {
   "cell_type": "code",
   "execution_count": 1,
   "metadata": {},
   "outputs": [
    {
     "data": {
      "application/vnd.jupyter.widget-view+json": {
       "model_id": "8a2635a94a68414ea1323e7221ccebd8",
       "version_major": 2,
       "version_minor": 0
      },
      "text/plain": [
       "Styles()"
      ]
     },
     "metadata": {},
     "output_type": "display_data"
    }
   ],
   "source": [
    "#add tiles \n",
    "%run 'aoi_ui.ipynb'\n",
    "%run 'questionnaire_ui.ipynb'\n",
    "%run 'customize_layer_ui.ipynb'\n",
    "%run 'compute_ui.ipynb'"
   ]
  },
  {
   "cell_type": "code",
   "execution_count": 2,
   "metadata": {
    "tags": []
   },
   "outputs": [
    {
     "data": {
      "application/vnd.jupyter.widget-view+json": {
       "model_id": "9e6e352d62bb4bdd8674bf7ea4ae9861",
       "version_major": 2,
       "version_minor": 0
      },
      "text/plain": [
       "CustomAoiTile(align_center=True, children=[Card(children=[Html(children=['Select AOI'], tag='h2'), Flex(childr…"
      ]
     },
     "metadata": {},
     "output_type": "display_data"
    }
   ],
   "source": [
    "rp_aoi"
   ]
  },
  {
   "cell_type": "code",
   "execution_count": 3,
   "metadata": {
    "tags": []
   },
   "outputs": [
    {
     "data": {
      "application/vnd.jupyter.widget-view+json": {
       "model_id": "60d312c9346547fca7571ffd339947b7",
       "version_major": 2,
       "version_minor": 0
      },
      "text/plain": [
       "QuestionnaireTile(align_center=True, children=[Card(children=[Html(children=['Questionnaire identifying restor…"
      ]
     },
     "metadata": {},
     "output_type": "display_data"
    }
   ],
   "source": [
    "rp_questionnaire"
   ]
  },
  {
   "cell_type": "code",
   "execution_count": 4,
   "metadata": {},
   "outputs": [
    {
     "data": {
      "application/vnd.jupyter.widget-view+json": {
       "model_id": "c943fbe8109e43ec8ecce7c1233a9e09",
       "version_major": 2,
       "version_minor": 0
      },
      "text/plain": [
       "CustomizeLayerTile(align_center=True, children=[Card(children=[Html(children=['Customize layers input'], tag='…"
      ]
     },
     "metadata": {},
     "output_type": "display_data"
    }
   ],
   "source": [
    "rp_layers"
   ]
  },
  {
   "cell_type": "code",
   "execution_count": 5,
   "metadata": {},
   "outputs": [
    {
     "data": {
      "application/vnd.jupyter.widget-view+json": {
       "model_id": "db08cd299cc541efac48c22312b48921",
       "version_major": 2,
       "version_minor": 0
      },
      "text/plain": [
       "ValidationTile(align_center=True, children=[Card(children=[Html(children=['Model recipe (input benefits, costs…"
      ]
     },
     "metadata": {},
     "output_type": "display_data"
    }
   ],
   "source": [
    "rp_validation"
   ]
  },
  {
   "cell_type": "code",
   "execution_count": 6,
   "metadata": {},
   "outputs": [
    {
     "data": {
      "application/vnd.jupyter.widget-view+json": {
       "model_id": "323fbdc331ff4906af8e1313dd14e6d2",
       "version_major": 2,
       "version_minor": 0
      },
      "text/plain": [
       "MapTile(align_center=True, children=[Card(children=[Html(children=['Results map'], tag='h2'), Flex(children=[M…"
      ]
     },
     "metadata": {},
     "output_type": "display_data"
    }
   ],
   "source": [
    "rp_map_tile"
   ]
  },
  {
   "cell_type": "code",
   "execution_count": 7,
   "metadata": {},
   "outputs": [
    {
     "data": {
      "application/vnd.jupyter.widget-view+json": {
       "model_id": "d8261c5e25a246f4a7426c192306ffce",
       "version_major": 2,
       "version_minor": 0
      },
      "text/plain": [
       "DashRegionTile(align_center=True, children=[Card(children=[Html(children=['Summary of restoration suitability …"
      ]
     },
     "metadata": {},
     "output_type": "display_data"
    }
   ],
   "source": [
    "rp_regions"
   ]
  },
  {
   "cell_type": "code",
   "execution_count": 8,
   "metadata": {},
   "outputs": [
    {
     "data": {
      "application/vnd.jupyter.widget-view+json": {
       "model_id": "26e26c50167e436ab801ab278a3530cb",
       "version_major": 2,
       "version_minor": 0
      },
      "text/plain": [
       "DashThemeTile(align_center=True, children=[Card(children=[Html(children=['Area of interest - summary by subthe…"
      ]
     },
     "metadata": {},
     "output_type": "display_data"
    }
   ],
   "source": [
    "rp_theme"
   ]
  }
 ],
 "metadata": {
  "kernelspec": {
   "display_name": "Python 3",
   "language": "python",
   "name": "python3"
  },
  "language_info": {
   "codemirror_mode": {
    "name": "ipython",
    "version": 3
   },
   "file_extension": ".py",
   "mimetype": "text/x-python",
   "name": "python",
   "nbconvert_exporter": "python",
   "pygments_lexer": "ipython3",
   "version": "3.6.9"
  }
 },
 "nbformat": 4,
 "nbformat_minor": 4
}
