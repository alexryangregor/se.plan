{
 "cells": [
  {
   "cell_type": "code",
   "execution_count": 1,
   "metadata": {},
   "outputs": [
    {
     "data": {
      "application/vnd.jupyter.widget-view+json": {
       "model_id": "607c05a4fba548f8a6cf04b276173ab3",
       "version_major": 2,
       "version_minor": 0
      },
      "text/plain": [
       "Styles()"
      ]
     },
     "metadata": {},
     "output_type": "display_data"
    }
   ],
   "source": [
    "#add tiles \n",
    "%run 'aoi_ui.ipynb'\n",
    "%run 'questionnaire_ui.ipynb'\n",
    "#%run 'customize_layer_ui.ipynb'\n",
    "#%run 'compute_ui.ipynb'"
   ]
  },
  {
   "cell_type": "code",
   "execution_count": 2,
   "metadata": {
    "tags": []
   },
   "outputs": [
    {
     "data": {
      "application/vnd.jupyter.widget-view+json": {
       "model_id": "83af541f09834850904f0fc159a8b58f",
       "version_major": 2,
       "version_minor": 0
      },
      "text/plain": [
       "CustomAoiTile(align_center=True, children=[Card(children=[Html(children=['Select AOI'], tag='h2'), Flex(childr…"
      ]
     },
     "metadata": {},
     "output_type": "display_data"
    }
   ],
   "source": [
    "rp_aoi"
   ]
  },
  {
   "cell_type": "code",
   "execution_count": 3,
   "metadata": {
    "tags": []
   },
   "outputs": [
    {
     "data": {
      "application/vnd.jupyter.widget-view+json": {
       "model_id": "53dea27979a440e4ab046cf596306f84",
       "version_major": 2,
       "version_minor": 0
      },
      "text/plain": [
       "QuestionnaireTile(align_center=True, children=[Card(children=[Html(children=['Questionnaire identifying restor…"
      ]
     },
     "metadata": {},
     "output_type": "display_data"
    }
   ],
   "source": [
    "rp_questionnaire"
   ]
  },
  {
   "cell_type": "code",
   "execution_count": 4,
   "metadata": {},
   "outputs": [],
   "source": [
    "#rp_layers"
   ]
  },
  {
   "cell_type": "code",
   "execution_count": 5,
   "metadata": {},
   "outputs": [],
   "source": [
    "#rp_validation"
   ]
  },
  {
   "cell_type": "code",
   "execution_count": 6,
   "metadata": {},
   "outputs": [],
   "source": [
    "#rp_map_tile"
   ]
  },
  {
   "cell_type": "code",
   "execution_count": 7,
   "metadata": {},
   "outputs": [],
   "source": [
    "#rp_regions#"
   ]
  },
  {
   "cell_type": "code",
   "execution_count": 8,
   "metadata": {},
   "outputs": [],
   "source": [
    "#rp_theme"
   ]
  },
  {
   "cell_type": "code",
   "execution_count": 9,
   "metadata": {},
   "outputs": [
    {
     "data": {
      "text/plain": [
       "[{'id': 'woodfuel_harvest',\n",
       "  'name': 'Woodfuel harvest',\n",
       "  'layer': 'projects/john-ee-282116/assets/fao-restoration/features/Woodfuel_gadm36_1_edited_image',\n",
       "  'unit': 'm3/ha',\n",
       "  'weight': 0,\n",
       "  'theme': 'benefits',\n",
       "  'subtheme': 'Local livelihoods',\n",
       "  'operator': ''},\n",
       " {'id': 'plantation_growth_rates',\n",
       "  'name': 'Plantation growth rate',\n",
       "  'layer': 'projects/john-ee-282116/assets/fao-restoration/features/yields-4326',\n",
       "  'unit': 'dry tons/ha/yr',\n",
       "  'weight': 0,\n",
       "  'theme': 'benefits',\n",
       "  'subtheme': 'Wood production',\n",
       "  'operator': ''},\n",
       " {'id': 'city_access',\n",
       "  'name': 'Accessibility to cities',\n",
       "  'layer': 'Oxford/MAP/accessibility_to_cities_2015_v1_0',\n",
       "  'unit': 'hours',\n",
       "  'weight': 0,\n",
       "  'theme': 'constraint',\n",
       "  'subtheme': 'Socio-economic',\n",
       "  'operator': 'lt'},\n",
       " {'id': 'forest_job',\n",
       "  'name': 'Forest employment',\n",
       "  'layer': 'projects/john-ee-282116/assets/fao-restoration/features/emp_ha',\n",
       "  'unit': 'jobs/ha',\n",
       "  'weight': 0,\n",
       "  'theme': 'benefits',\n",
       "  'subtheme': 'Local livelihoods',\n",
       "  'operator': ''},\n",
       " {'id': 'ground_carbon',\n",
       "  'name': 'Aboveground carbon accumulation',\n",
       "  'layer': 'projects/john-ee-282116/assets/fao-restoration/features/young_forest_sequestration_rate_Griscom_extent',\n",
       "  'unit': 'tons/ha/yr',\n",
       "  'weight': 0,\n",
       "  'theme': 'benefits',\n",
       "  'subtheme': 'Carbon sequestration',\n",
       "  'operator': ''},\n",
       " {'id': 'biodiversity_intactness',\n",
       "  'name': 'Biodiversity Intactness Index',\n",
       "  'layer': 'projects/john-ee-282116/assets/fao-restoration/features/ibii-4326',\n",
       "  'unit': 'percent',\n",
       "  'weight': 0,\n",
       "  'theme': 'benefits',\n",
       "  'subtheme': 'Biodiversity conservation',\n",
       "  'operator': ''},\n",
       " {'id': 'endangered_species',\n",
       "  'name': 'Endangered species',\n",
       "  'layer': 'projects/john-ee-282116/assets/fao-restoration/features/terra-bio-div-image',\n",
       "  'unit': 'number/km2',\n",
       "  'weight': 0,\n",
       "  'theme': 'benefits',\n",
       "  'subtheme': 'Biodiversity conservation',\n",
       "  'operator': ''},\n",
       " {'id': 'ecozones',\n",
       "  'name': 'Terrestrial ecoregion',\n",
       "  'layer': 'projects/john-ee-282116/assets/fao-restoration/features/gez_2010_wgs84_split',\n",
       "  'unit': 'binary',\n",
       "  'weight': 0,\n",
       "  'theme': 'constraint',\n",
       "  'subtheme': 'Biophysical',\n",
       "  'operator': ''},\n",
       " {'id': 'land_cover',\n",
       "  'name': 'Current land cover',\n",
       "  'layer': 'COPERNICUS/Landcover/100m/Proba-V-C3/Global/2019',\n",
       "  'unit': 'binary',\n",
       "  'weight': 0,\n",
       "  'theme': 'constraint',\n",
       "  'subtheme': 'Socio-economic',\n",
       "  'operator': ''},\n",
       " {'id': 'protected_areas',\n",
       "  'name': 'Protected areas',\n",
       "  'layer': 'WCMC/WDPA/current/polygons',\n",
       "  'unit': 'binary',\n",
       "  'weight': 0,\n",
       "  'theme': 'constraint',\n",
       "  'subtheme': 'Socio-economic',\n",
       "  'operator': ''},\n",
       " {'id': 'slope',\n",
       "  'name': 'Slope',\n",
       "  'layer': 'USGS/SRTMGL1_003',\n",
       "  'unit': 'percent',\n",
       "  'weight': 0,\n",
       "  'theme': 'constraint',\n",
       "  'subtheme': 'Biophysical ',\n",
       "  'operator': 'gt'},\n",
       " {'id': 'elevation',\n",
       "  'name': 'Elevation',\n",
       "  'layer': 'USGS/SRTMGL1_003',\n",
       "  'unit': 'm',\n",
       "  'weight': 0,\n",
       "  'theme': 'constraint',\n",
       "  'subtheme': 'Biophysical ',\n",
       "  'operator': 'gt'},\n",
       " {'id': 'natural_regeneration',\n",
       "  'name': 'Natural regeneration variability',\n",
       "  'layer': 'projects/john-ee-282116/assets/fao-restoration/features/Regeneration',\n",
       "  'unit': 'index (0 to 1)',\n",
       "  'weight': 0,\n",
       "  'theme': 'constraint',\n",
       "  'subtheme': 'Forest change',\n",
       "  'operator': 'lt'},\n",
       " {'id': 'declining_population',\n",
       "  'name': 'Declining population',\n",
       "  'layer': 'projects/john-ee-282116/assets/fao-restoration/features/population_decline_masked',\n",
       "  'unit': 'binary',\n",
       "  'weight': 0,\n",
       "  'theme': 'constraint',\n",
       "  'subtheme': 'Socio-economic',\n",
       "  'operator': ''},\n",
       " {'id': 'property_rights',\n",
       "  'name': 'Property rights protection',\n",
       "  'layer': 'projects/john-ee-282116/assets/fao-restoration/features/RL_gadm36_1_edited_image',\n",
       "  'unit': 'index (-2.5 to 2.5)',\n",
       "  'weight': 0,\n",
       "  'theme': 'constraint',\n",
       "  'subtheme': 'Socio-economic',\n",
       "  'operator': 'gt'},\n",
       " {'id': 'deforestation_rate',\n",
       "  'name': 'Deforestation rate',\n",
       "  'layer': 'projects/john-ee-282116/assets/fao-restoration/features/DeforestRate',\n",
       "  'unit': 'percent/yr',\n",
       "  'weight': 0,\n",
       "  'theme': 'constraint',\n",
       "  'subtheme': 'Forest change',\n",
       "  'operator': 'lt'},\n",
       " {'id': 'climate_risk',\n",
       "  'name': 'Climate risk',\n",
       "  'layer': 'projects/john-ee-282116/assets/fao-restoration/features/future_risk',\n",
       "  'unit': 'percent',\n",
       "  'weight': 0,\n",
       "  'theme': 'constraint',\n",
       "  'subtheme': 'Forest change',\n",
       "  'operator': 'gt'},\n",
       " {'id': 'population_density',\n",
       "  'name': 'Population density',\n",
       "  'layer': 'CIESIN/GPWv411/GPW_Population_Density/gpw_v4_population_density_rev11_2015_30_sec',\n",
       "  'unit': 'people/km2',\n",
       "  'weight': 0,\n",
       "  'theme': 'constraint',\n",
       "  'subtheme': 'Socio-economic',\n",
       "  'operator': 'lt'},\n",
       " {'id': 'annual_rainfall',\n",
       "  'name': 'Annual rainfall',\n",
       "  'layer': 'projects/john-ee-282116/assets/fao-restoration/features/chirps_00_20_mean',\n",
       "  'unit': 'mm/yr',\n",
       "  'weight': 0,\n",
       "  'theme': 'constraint',\n",
       "  'subtheme': 'Biophysical',\n",
       "  'operator': 'gt'},\n",
       " {'id': 'treecover_with_potential',\n",
       "  'name': 'Current tree cover less than potential',\n",
       "  'layer': 'projects/john-ee-282116/assets/fao-restoration/features/rest_pot_gt_treecoverfrac_mask_urban',\n",
       "  'unit': 'percent',\n",
       "  'weight': 0,\n",
       "  'theme': 'constraint',\n",
       "  'subtheme': '',\n",
       "  'operator': ''},\n",
       " {'id': 'opportunity_cost',\n",
       "  'name': 'Land opportunity cost',\n",
       "  'layer': 'projects/john-ee-282116/assets/fao-restoration/features/opportunity_cost',\n",
       "  'unit': '$/ha',\n",
       "  'weight': 0,\n",
       "  'theme': 'costs',\n",
       "  'subtheme': '',\n",
       "  'operator': ''},\n",
       " {'id': 'water_stress',\n",
       "  'name': 'Baseline water stress',\n",
       "  'layer': 'projects/john-ee-282116/assets/fao-restoration/features/bws_score',\n",
       "  'unit': 'index (0 to 5)',\n",
       "  'weight': 0,\n",
       "  'theme': 'constraint',\n",
       "  'subtheme': 'Biophysical',\n",
       "  'operator': 'lt'},\n",
       " {'id': 'establishment_cost',\n",
       "  'name': 'Establishment cost',\n",
       "  'layer': 'projects/john-ee-282116/assets/fao-restoration/features/AfCost_ha',\n",
       "  'unit': '$/ha',\n",
       "  'weight': 0,\n",
       "  'theme': 'costs',\n",
       "  'subtheme': 'monetary',\n",
       "  'operator': ''}]"
      ]
     },
     "execution_count": 9,
     "metadata": {},
     "output_type": "execute_result"
    }
   ],
   "source": [
    "rp_layers_model.layer_list"
   ]
  },
  {
   "cell_type": "code",
   "execution_count": null,
   "metadata": {},
   "outputs": [],
   "source": []
  }
 ],
 "metadata": {
  "kernelspec": {
   "display_name": "Python 3",
   "language": "python",
   "name": "python3"
  },
  "language_info": {
   "codemirror_mode": {
    "name": "ipython",
    "version": 3
   },
   "file_extension": ".py",
   "mimetype": "text/x-python",
   "name": "python",
   "nbconvert_exporter": "python",
   "pygments_lexer": "ipython3",
   "version": "3.6.9"
  }
 },
 "nbformat": 4,
 "nbformat_minor": 4
}
