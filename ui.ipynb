{
 "cells": [
  {
   "cell_type": "code",
   "execution_count": 1,
   "metadata": {},
   "outputs": [
    {
     "data": {
      "text/html": [
       "<style>.leaflet-widgetcontrol {box-shadow: none}</style>"
      ],
      "text/plain": [
       "<IPython.core.display.HTML object>"
      ]
     },
     "metadata": {},
     "output_type": "display_data"
    }
   ],
   "source": [
    "# ugly fix for the shadow of the map widgets\n",
    "from IPython.display import display, HTML\n",
    "\n",
    "display(HTML(\"<style>.leaflet-widgetcontrol {box-shadow: none}</style>\"))"
   ]
  },
  {
   "cell_type": "code",
   "execution_count": 2,
   "metadata": {},
   "outputs": [
    {
     "data": {
      "application/vnd.jupyter.widget-view+json": {
       "model_id": "",
       "version_major": 2,
       "version_minor": 0
      },
      "text/plain": [
       "Styles()"
      ]
     },
     "metadata": {},
     "output_type": "display_data"
    },
    {
     "data": {
      "application/vnd.jupyter.widget-view+json": {
       "model_id": "",
       "version_major": 2,
       "version_minor": 0
      },
      "text/plain": [
       "ResizeTrigger()"
      ]
     },
     "metadata": {},
     "output_type": "display_data"
    }
   ],
   "source": [
    "from sepal_ui import sepalwidgets as sw\n",
    "from component.message import cm"
   ]
  },
  {
   "cell_type": "code",
   "execution_count": 3,
   "metadata": {},
   "outputs": [],
   "source": [
    "# create an appBar\n",
    "rp_appBar = sw.AppBar(cm.app.title, translator=cm)"
   ]
  },
  {
   "cell_type": "code",
   "execution_count": null,
   "metadata": {},
   "outputs": [],
   "source": [
    "# add tiles\n",
    "%run 'aoi_ui.ipynb'\n",
    "%run 'questionnaire_ui.ipynb'\n",
    "%run 'compute_ui.ipynb'\n",
    "%run 'about_ui.ipynb'\n",
    "\n",
    "rp_content = [\n",
    "    rp_aoi,\n",
    "    rp_questionnaire,\n",
    "    rp_validation,\n",
    "    rp_map_tile,\n",
    "    rp_regions,\n",
    "    rp_theme,\n",
    "    rp_carbon,\n",
    "    rp_about,\n",
    "    rp_disclaimer,\n",
    "]"
   ]
  },
  {
   "cell_type": "code",
   "execution_count": null,
   "metadata": {},
   "outputs": [],
   "source": [
    "# create a drawer\n",
    "items = [\n",
    "    sw.DrawerItem(cm.app.drawer.about, \"mdi-help-circle\", card=\"about_tile\"),\n",
    "    sw.DrawerItem(cm.app.drawer.aoi, \"mdi-map-marker-check\", card=\"aoi_tile\"),\n",
    "    sw.DrawerItem(\n",
    "        cm.app.drawer.question, \"mdi-file-question\", card=\"questionnaire_widget\"\n",
    "    ),\n",
    "    sw.DrawerItem(cm.app.drawer.recipe, \"mdi-cogs\", card=\"compute_widget\"),\n",
    "    sw.DrawerItem(cm.app.drawer.map, \"mdi-map\", card=\"map_widget\"),\n",
    "    sw.DrawerItem(\n",
    "        cm.app.drawer.dashboard, \"mdi-view-dashboard\", card=\"dashboard_widget\"\n",
    "    ),\n",
    "]\n",
    "\n",
    "code_link = \"https://github.com/sepal-contrib/se.plan\"\n",
    "wiki_link = \"https://docs.sepal.io/en/latest/modules/dwn/seplan.html\"\n",
    "issue_link = \"https://github.com/sepal-contrib/se.plan/issues/new\"\n",
    "\n",
    "rp_drawer = sw.NavDrawer(items, code=code_link, wiki=wiki_link, issue=issue_link)"
   ]
  },
  {
   "cell_type": "code",
   "execution_count": null,
   "metadata": {},
   "outputs": [],
   "source": [
    "# build the app\n",
    "rp_app = sw.App(tiles=rp_content, appBar=rp_appBar, navDrawer=rp_drawer, translator=cm)"
   ]
  },
  {
   "cell_type": "code",
   "execution_count": null,
   "metadata": {},
   "outputs": [],
   "source": [
    "# display the app\n",
    "rp_app.show_tile(\"about_tile\").add_banner(cm.app.banner)"
   ]
  },
  {
   "cell_type": "code",
   "execution_count": null,
   "metadata": {},
   "outputs": [],
   "source": []
  }
 ],
 "metadata": {
  "kernelspec": {
   "display_name": " (venv) se.plan",
   "language": "python",
   "name": "venv-se.plan"
  },
  "language_info": {
   "codemirror_mode": {
    "name": "ipython",
    "version": 3
   },
   "file_extension": ".py",
   "mimetype": "text/x-python",
   "name": "python",
   "nbconvert_exporter": "python",
   "pygments_lexer": "ipython3",
   "version": "3.8.10"
  },
  "voila": {
   "theme": "dark"
  }
 },
 "nbformat": 4,
 "nbformat_minor": 4
}
