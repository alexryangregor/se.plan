{
 "cells": [
  {
   "cell_type": "code",
   "execution_count": null,
   "id": "6320d7f9-989e-4e60-a809-0453c05affc4",
   "metadata": {
    "tags": []
   },
   "outputs": [],
   "source": [
    "import sepal_ui.sepalwidgets as sw\n",
    "\n",
    "from component.tile.custom_aoi_tile import AoiTile\n",
    "from component.tile.dashboard_tile import DashboardTile\n",
    "from component.tile.map_tile import MapTile\n",
    "from component.tile.questionnaire_tile import QuestionnaireTile\n",
    "from component.tile.recipe_tile import RecipeTile\n",
    "\n",
    "from component.message import cm"
   ]
  },
  {
   "cell_type": "code",
   "execution_count": null,
   "id": "978118cb",
   "metadata": {},
   "outputs": [],
   "source": [
    "aoi_tile = AoiTile()\n",
    "questionnaire_tile = QuestionnaireTile()\n",
    "map_tile = MapTile()\n",
    "dashboard_tile = DashboardTile()\n",
    "recipe_tile = RecipeTile(aoi_tile, questionnaire_tile, map_tile, dashboard_tile)"
   ]
  },
  {
   "cell_type": "code",
   "execution_count": null,
   "id": "302a2177-bdae-428d-a1a1-8c758cb32979",
   "metadata": {
    "tags": []
   },
   "outputs": [],
   "source": [
    "# Create an appBar\n",
    "app_bar = sw.AppBar(cm.app.title)"
   ]
  },
  {
   "cell_type": "code",
   "execution_count": null,
   "id": "41695f79-8c81-4c18-bdfc-879b9c567ccd",
   "metadata": {
    "tags": []
   },
   "outputs": [],
   "source": [
    "%run 'about_ui.ipynb'"
   ]
  },
  {
   "cell_type": "code",
   "execution_count": null,
   "id": "dcd06625-8e1b-424a-8639-8b8d04754b5c",
   "metadata": {
    "tags": []
   },
   "outputs": [],
   "source": [
    "app_content = [\n",
    "    aoi_tile,\n",
    "    questionnaire_tile,\n",
    "    map_tile,\n",
    "    dashboard_tile,\n",
    "    recipe_tile,\n",
    "]"
   ]
  },
  {
   "cell_type": "code",
   "execution_count": null,
   "id": "ee34f559",
   "metadata": {},
   "outputs": [],
   "source": [
    "items = [\n",
    "    sw.DrawerItem(cm.app.drawer.about, \"mdi-help-circle\", card=\"about_tile\"),\n",
    "    sw.DrawerItem(cm.app.drawer.recipe, \"mdi-map-marker-check\", card=\"recipe_tile\"),\n",
    "    sw.DrawerItem(cm.app.drawer.aoi, \"mdi-map-marker-check\", card=\"aoi_tile\"),\n",
    "    sw.DrawerItem(\n",
    "        cm.app.drawer.question, \"mdi-file-question\", card=\"questionnaire_tile\"\n",
    "    ),\n",
    "    sw.DrawerItem(cm.app.drawer.map, \"mdi-map\", card=\"map_tile\"),\n",
    "    sw.DrawerItem(cm.app.drawer.dashboard, \"mdi-view-dashboard\", card=\"dashboard_tile\"),\n",
    "]\n",
    "\n",
    "code_link = \"https://github.com/sepal-contrib/se.plan\"\n",
    "wiki_link = \"https://docs.sepal.io/en/latest/modules/dwn/seplan.html\"\n",
    "issue_link = \"https://github.com/sepal-contrib/se.plan/issues/new\"\n",
    "\n",
    "app_drawer = sw.NavDrawer(items, code=code_link, wiki=wiki_link, issue=issue_link)"
   ]
  },
  {
   "cell_type": "code",
   "execution_count": null,
   "id": "25cca845-9098-4771-b0cd-be4fbe0389bf",
   "metadata": {
    "tags": []
   },
   "outputs": [],
   "source": [
    "# build the Html final app by gathering everything\n",
    "app = sw.App(tiles=app_content, appBar=app_bar, navDrawer=app_drawer).show_tile(\n",
    "    \"about_tile\"\n",
    ")"
   ]
  },
  {
   "cell_type": "code",
   "execution_count": null,
   "id": "81605f26-1ed3-4bdb-8c17-706c5c07fa38",
   "metadata": {
    "tags": []
   },
   "outputs": [],
   "source": [
    "app"
   ]
  }
 ],
 "metadata": {
  "kernelspec": {
   "display_name": "Python 3",
   "language": "python",
   "name": "python3"
  },
  "language_info": {
   "codemirror_mode": {
    "name": "ipython",
    "version": 3
   },
   "file_extension": ".py",
   "mimetype": "text/x-python",
   "name": "python",
   "nbconvert_exporter": "python",
   "pygments_lexer": "ipython3",
   "version": "3.10.12"
  }
 },
 "nbformat": 4,
 "nbformat_minor": 5
}
