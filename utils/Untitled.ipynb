{
 "cells": [
  {
   "cell_type": "code",
   "execution_count": null,
   "id": "5b2314f3-12ee-4a78-ac0d-1a0c3e943214",
   "metadata": {},
   "outputs": [],
   "source": [
    "from pathlib import Path\n",
    "import pandas as pd\n",
    "\n",
    "lmic_file = Path(\"lmic_countries.csv\")\n",
    "lmic_file.is_file()"
   ]
  },
  {
   "cell_type": "code",
   "execution_count": null,
   "id": "66d05947-9a34-47e7-a1fa-f47c8d95973b",
   "metadata": {},
   "outputs": [],
   "source": [
    "lmic = pd.read_csv(lmic_file)\n",
    "lmic.GAUL.values"
   ]
  },
  {
   "cell_type": "code",
   "execution_count": null,
   "id": "89c4396b-a6b5-495e-b448-4c1236fd3904",
   "metadata": {},
   "outputs": [],
   "source": []
  }
 ],
 "metadata": {
  "kernelspec": {
   "display_name": "Python 3",
   "language": "python",
   "name": "python3"
  },
  "language_info": {
   "codemirror_mode": {
    "name": "ipython",
    "version": 3
   },
   "file_extension": ".py",
   "mimetype": "text/x-python",
   "name": "python",
   "nbconvert_exporter": "python",
   "pygments_lexer": "ipython3",
   "version": "3.8.10"
  }
 },
 "nbformat": 4,
 "nbformat_minor": 5
}
